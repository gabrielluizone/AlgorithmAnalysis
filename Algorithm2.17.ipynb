{
  "nbformat": 4,
  "nbformat_minor": 0,
  "metadata": {
    "colab": {
      "provenance": []
    },
    "kernelspec": {
      "name": "python3",
      "display_name": "Python 3"
    },
    "language_info": {
      "name": "python"
    }
  },
  "cells": [
    {
      "cell_type": "code",
      "execution_count": null,
      "metadata": {
        "colab": {
          "base_uri": "https://localhost:8080/"
        },
        "id": "gjfNBD8HDEQ2",
        "outputId": "208b1abe-5aaa-47a1-e21f-764a39a862ec"
      },
      "outputs": [
        {
          "output_type": "stream",
          "name": "stdout",
          "text": [
            "#################################################################################\n",
            "-----------------[  Matriz Calculator, by Gabriel Luiz | 1.2  ]-----------------\n",
            "#################################################################################\n",
            "\n",
            "Digite o número de linhas e colunas das matrizes separado por \"x\"\n",
            ">> 10 x 12\n",
            "\n",
            "Quantas matrizes você deseja somar?\n",
            ">> 2\n",
            "\n",
            "#################################################################################\n",
            "-------[  Informe somente 12 váriaveis separados por espaços por linha  ]-------\n",
            "#################################################################################\n",
            "\n",
            "----------[1ª Matriz]----------\n",
            "1ª Linha: 1 1 1 1 1 1 1 1 1 1 1 1\n",
            "2ª Linha: 1 1 1 1 1 1 1 1 1 1 1 1\n",
            "3ª Linha: 1 1 1 1 1 1 1 1 1 1 1 1\n",
            "4ª Linha: 1 1 1 1 1 1 1 1 1 1 1 1\n",
            "5ª Linha: 1 1 1 1 1 1 1 1 1 1 1 1\n",
            "6ª Linha: 1 1 1 1 1 1 1 1 1 1 1 1\n",
            "7ª Linha: 1 1 1 1 1 1 1 1 1 1 1 1\n",
            "8ª Linha: 1 1 1 1 1 1 1 1 1 1 1 1\n",
            "9ª Linha: 1 1 1 1 1 1 1 1 1 1 1 1\n",
            "10ª Linha: 1 1 1 1 1 1 1 1 1 1 1 1\n",
            "\n",
            "----------[2ª Matriz]----------\n",
            "1ª Linha: 8 8 8 8 8 8 8 8 8 8 8 8\n",
            "2ª Linha: 8 8 8 8 8 8 8 8 8 8 8 8\n",
            "3ª Linha: 8 8 8 8 8 8 8 8 8 8 8 8\n",
            "4ª Linha: 8 8 8 8 8 8 8 8 8 8 8 8\n",
            "5ª Linha: 8 8 8 8 8 8 8 8 8 8 8 8\n",
            "6ª Linha: 8 8 8 8 8 8 8 8 8 8 8 8\n",
            "7ª Linha: 8 8 8 8 8 8 8 8 8 8 8 8\n",
            "8ª Linha: 8 8 8 8 8 8 8 8 8 8 8 8\n",
            "9ª Linha: 8 8 8 8 8 8 8 8 8 8 8 8\n",
            "10ª Linha: 8 8 8 8 8 8 8 8 8 8 8 8\n",
            "\n",
            "#################################################################################\n",
            "---------------[  Resultado da Operação | 0.0002665519714355469  ]---------------\n",
            "#################################################################################\n",
            "\t|\t9\t|\t9\t|\t9\t|\t9\t|\t9\t|\t9\t|\t9\t|\t9\t|\t9\t|\t9\t|\t9\t|\t9\t|\t\n",
            "\t|\t9\t|\t9\t|\t9\t|\t9\t|\t9\t|\t9\t|\t9\t|\t9\t|\t9\t|\t9\t|\t9\t|\t9\t|\t\n",
            "\t|\t9\t|\t9\t|\t9\t|\t9\t|\t9\t|\t9\t|\t9\t|\t9\t|\t9\t|\t9\t|\t9\t|\t9\t|\t\n",
            "\t|\t9\t|\t9\t|\t9\t|\t9\t|\t9\t|\t9\t|\t9\t|\t9\t|\t9\t|\t9\t|\t9\t|\t9\t|\t\n",
            "\t|\t9\t|\t9\t|\t9\t|\t9\t|\t9\t|\t9\t|\t9\t|\t9\t|\t9\t|\t9\t|\t9\t|\t9\t|\t\n",
            "\t|\t9\t|\t9\t|\t9\t|\t9\t|\t9\t|\t9\t|\t9\t|\t9\t|\t9\t|\t9\t|\t9\t|\t9\t|\t\n",
            "\t|\t9\t|\t9\t|\t9\t|\t9\t|\t9\t|\t9\t|\t9\t|\t9\t|\t9\t|\t9\t|\t9\t|\t9\t|\t\n",
            "\t|\t9\t|\t9\t|\t9\t|\t9\t|\t9\t|\t9\t|\t9\t|\t9\t|\t9\t|\t9\t|\t9\t|\t9\t|\t\n",
            "\t|\t9\t|\t9\t|\t9\t|\t9\t|\t9\t|\t9\t|\t9\t|\t9\t|\t9\t|\t9\t|\t9\t|\t9\t|\t\n",
            "\t|\t9\t|\t9\t|\t9\t|\t9\t|\t9\t|\t9\t|\t9\t|\t9\t|\t9\t|\t9\t|\t9\t|\t9\t|\t\n"
          ]
        }
      ],
      "source": [
        "import time\n",
        "\n",
        "print('#################################################################################\\n\\\n",
        "-----------------[  Matriz Calculator, by Gabriel Luiz | 1.2  ]-----------------\\n\\\n",
        "#################################################################################\\n\\n\\\n",
        "Digite o número de linhas e colunas das matrizes separado por \"x\"')\n",
        "\n",
        "# Definir as dimensões das matrizes\n",
        "while True:\n",
        "    try:\n",
        "        k, l = [int(i) for i in input('>> ').strip().split('x')]\n",
        "        break\n",
        "        \n",
        "    except ValueError as error:\n",
        "        print('• Informe 2 valores númericos')\n",
        "\n",
        "# Definir a quantidade de matrizes a serem inseridas\n",
        "while True:\n",
        "    try:\n",
        "        quant = int(input('\\nQuantas matrizes você deseja somar?\\n>> '))\n",
        "        break\n",
        "    except ValueError as error:\n",
        "        print('• Informe somente valores númericos')\n",
        "    \n",
        "matrizes = []\n",
        "\n",
        "print(f'\\n#################################################################################\\n\\\n",
        "-------[  Informe somente {l} váriaveis separados por espaços por linha  ]-------\\n\\\n",
        "#################################################################################')\n",
        "\n",
        "# Recebimento das Matrizes do Usuário\n",
        "for i in range(quant):\n",
        "    print(f'\\n----------[{i+1}ª Matriz]----------')\n",
        "    M = []\n",
        "    for j in range(k):\n",
        "        while True:\n",
        "            try:\n",
        "                M_temp = [int(x) for x in input(f'{j+1}ª Linha: ').strip().split(' ')]\n",
        "                if len(M_temp) != l: print(f'• Informe somente {l} váriaveis por linha')\n",
        "                else:\n",
        "                    M.append(M_temp)\n",
        "                    break\n",
        "            except ValueError as error:\n",
        "                print('• Informe somente valores númericos')\n",
        "    matrizes.append(M)\n",
        "\n",
        "M1 = matrizes.pop()\n",
        "\n",
        "# Quantidade de vezes para a operação de soma\n",
        "ti = time.time()\n",
        "for i in range(quant-1):\n",
        "    M2 = matrizes.pop()\n",
        "    \n",
        "    # Somando elemento por elemento conforme sua posição\n",
        "    for linh in range(k):\n",
        "        for cols in range(l):\n",
        "            M1[linh][cols] = M1[linh][cols] + M2[linh][cols]\n",
        "tf = time.time()\n",
        "# Visualização do Resultado \n",
        "print(f'\\n#################################################################################\\n\\\n",
        "---------------[  Resultado da Operação | {tf - ti}  ]---------------\\n\\\n",
        "#################################################################################')\n",
        "\n",
        "for linha in M1:\n",
        "    print('', *linha, '', sep='\\t|\\t')\n"
      ]
    },
    {
      "cell_type": "markdown",
      "source": [
        "### Tempo de Execução\n",
        "<div class=\"footer\">\n",
        "    &copy; 2023 Fatec Corporation\n",
        "</div>\n",
        "\n",
        "> - Matriz 5 x 6: `0.0001556873321533203`\n",
        "> - Matriz 10 x 12: `0.0002665519714355469`\n",
        "\n",
        "#### Algoritmo\n",
        "    matrizes = [[matriz m x n],[matriz m x n]]\n",
        "    M1 = matrizes.pop()\n",
        "\n",
        "    # Quantidade de operações de soma\n",
        "    for i in range(quant-1):\n",
        "      M2 = matrizes.pop()\n",
        "    \n",
        "      # Somando elemento por elemento conforme sua posição\n",
        "      for linha in range(linhas_das_matrizes):\n",
        "        for coluna in range(colunas_das_matrizes):\n",
        "            M1[linha][coluna] = M1[linha][colna] + M2[linha][coluna]\n",
        "\n"
      ],
      "metadata": {
        "id": "IDxNsgbuFc85"
      }
    },
    {
      "cell_type": "markdown",
      "source": [
        "### Outras tentativas\n",
        "* Matriz 3x3 = `0.00017142295837402344`\n",
        "* Matriz 9x9 = `0.00029349327087402344`\n",
        "* Matriz 81x81 = `0.003975391387939453`"
      ],
      "metadata": {
        "id": "RxMGmCdsI1_T"
      }
    }
  ]
}