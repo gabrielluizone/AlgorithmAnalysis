{
  "nbformat": 4,
  "nbformat_minor": 0,
  "metadata": {
    "colab": {
      "provenance": [],
      "authorship_tag": "ABX9TyPdTiFAcgRdKbZaogJjeyum",
      "include_colab_link": true
    },
    "kernelspec": {
      "name": "python3",
      "display_name": "Python 3"
    },
    "language_info": {
      "name": "python"
    }
  },
  "cells": [
    {
      "cell_type": "markdown",
      "metadata": {
        "id": "view-in-github",
        "colab_type": "text"
      },
      "source": [
        "<a href=\"https://colab.research.google.com/github/gabrielluizone/AlgorithmAnalysis/blob/main/2.1%E2%80%A2%20BinarySearch.ipynb\" target=\"_parent\"><img src=\"https://colab.research.google.com/assets/colab-badge.svg\" alt=\"Open In Colab\"/></a>"
      ]
    },
    {
      "cell_type": "markdown",
      "source": [
        "<div class=\"markdown-google-sans\">\n",
        "\n",
        "## **Complexity of Binary Search Algorithms**\n",
        "> 19 de abril de 2023\n",
        "\n",
        "</div>"
      ],
      "metadata": {
        "id": "RMkaN4TgMBL6"
      }
    },
    {
      "cell_type": "code",
      "execution_count": null,
      "metadata": {
        "id": "_aLjhKhbJHvb"
      },
      "outputs": [],
      "source": [
        "import time\n",
        "import random\n",
        "L = [x for x in range(11)]"
      ]
    },
    {
      "cell_type": "code",
      "source": [
        "def binsearch(x):\n",
        "  for cicle in range(1):\n",
        "    pos_inf = 1\n",
        "    pos_sup = len(L)\n",
        "    while pos_inf <= pos_sup or pos_sup == 0:\n",
        "      centro = int((pos_inf + pos_sup) / 2)\n",
        "      #print(f'• Centro: {centro}\\n• Chave: {L[centro]}')\n",
        "      if L[centro] == x:\n",
        "        return centro, L[centro]\n",
        "        pos_inf = pos_sup + 1\n",
        "      else:\n",
        "        if L[centro] < x:\n",
        "          pos_inf = centro + 1\n",
        "          #print(f'Posição Inf: {pos_inf}\\n')\n",
        "        else:\n",
        "          pos_sup = centro - 1\n",
        "          #print(f'Posição Sup: {pos_sup}\\n')"
      ],
      "metadata": {
        "id": "KOBTHovkRbLc"
      },
      "execution_count": null,
      "outputs": []
    },
    {
      "cell_type": "code",
      "source": [
        "keys = [5, 1, 4, 3, 2, 0, 6, 7, 8, 9, 10]\n",
        "\n",
        "start = time.time()\n",
        "for i in keys:\n",
        "  print(f'Chave: {i} | Campo da Chave: {binsearch(i)}')\n",
        "end = time.time()\n",
        "\n",
        "print(f'\\n• Tempo de Execução: {end - start}')"
      ],
      "metadata": {
        "colab": {
          "base_uri": "https://localhost:8080/"
        },
        "id": "dT8s-pgiUQtW",
        "outputId": "959cf11e-57ac-451e-8a07-acd70846c9c1"
      },
      "execution_count": null,
      "outputs": [
        {
          "output_type": "stream",
          "name": "stdout",
          "text": [
            "Chave: 5 | Campo da Chave: (5, 5)\n",
            "Chave: 1 | Campo da Chave: (1, 1)\n",
            "Chave: 4 | Campo da Chave: (4, 4)\n",
            "Chave: 3 | Campo da Chave: (3, 3)\n",
            "Chave: 2 | Campo da Chave: (2, 2)\n",
            "Chave: 0 | Campo da Chave: (0, 0)\n",
            "Chave: 6 | Campo da Chave: (6, 6)\n",
            "Chave: 7 | Campo da Chave: (7, 7)\n",
            "Chave: 8 | Campo da Chave: (8, 8)\n",
            "Chave: 9 | Campo da Chave: (9, 9)\n",
            "Chave: 10 | Campo da Chave: (10, 10)\n",
            "\n",
            "• Tempo de Execução: 0.005749940872192383\n"
          ]
        }
      ]
    },
    {
      "cell_type": "markdown",
      "source": [
        "<div class=\"markdown-google-sans\">\n",
        "\n",
        "## **Questão 01**\n",
        "### Avaliar o tempo de execução do código para apenas a pesquisa binária de uma chave, levando em consideração diferentes posições\n",
        "> Logo, quanto mais distante do centro, o elemento buscado, maior será para pecorrer a lista, visto que sempre irá partir do centro da lista\n",
        "</div>\n",
        "\n"
      ],
      "metadata": {
        "id": "-oce5yMya4Eo"
      }
    },
    {
      "cell_type": "code",
      "source": [
        "esquerda = [4, 3, 2, 1, 0]\n",
        "\n",
        "for i in esquerda:\n",
        "  start = time.time()\n",
        "  print(f'Chave: {i} | Campo da Chave: {binsearch(i)}')\n",
        "  end = time.time()\n",
        "  print(f'• Tempo de Execução: {(end - start)*10}\\n')"
      ],
      "metadata": {
        "colab": {
          "base_uri": "https://localhost:8080/"
        },
        "id": "IINP9q2scBBG",
        "outputId": "68b4a4c1-1acf-4886-8167-8fa8045bb4a0"
      },
      "execution_count": null,
      "outputs": [
        {
          "output_type": "stream",
          "name": "stdout",
          "text": [
            "Chave: 4 | Campo da Chave: (4, 4)\n",
            "• Tempo de Execução: 0.0009822845458984375\n",
            "\n",
            "Chave: 3 | Campo da Chave: (3, 3)\n",
            "• Tempo de Execução: 0.000209808349609375\n",
            "\n",
            "Chave: 2 | Campo da Chave: (2, 2)\n",
            "• Tempo de Execução: 0.00020265579223632812\n",
            "\n",
            "Chave: 1 | Campo da Chave: (1, 1)\n",
            "• Tempo de Execução: 0.00021219253540039062\n",
            "\n",
            "Chave: 0 | Campo da Chave: (0, 0)\n",
            "• Tempo de Execução: 0.00019311904907226562\n",
            "\n"
          ]
        }
      ]
    },
    {
      "cell_type": "code",
      "source": [
        "direita = [9, 8, 7, 6, 5]\n",
        "\n",
        "for i in direita:\n",
        "  start = time.time()\n",
        "  print(f'Chave: {i} | Campo da Chave: {binsearch(i)}')\n",
        "  end = time.time()\n",
        "  print(f'• Tempo de Execução: {(end - start)*10}\\n')"
      ],
      "metadata": {
        "colab": {
          "base_uri": "https://localhost:8080/"
        },
        "id": "XbeZV9pJccvz",
        "outputId": "6bc93a06-99f6-48aa-b5d3-157f50ccb8e8"
      },
      "execution_count": null,
      "outputs": [
        {
          "output_type": "stream",
          "name": "stdout",
          "text": [
            "Chave: 9 | Campo da Chave: (9, 9)\n",
            "• Tempo de Execução: 0.014684200286865234\n",
            "\n",
            "Chave: 8 | Campo da Chave: (8, 8)\n",
            "• Tempo de Execução: 0.0002789497375488281\n",
            "\n",
            "Chave: 7 | Campo da Chave: (7, 7)\n",
            "• Tempo de Execução: 0.0002288818359375\n",
            "\n",
            "Chave: 6 | Campo da Chave: (6, 6)\n",
            "• Tempo de Execução: 0.00017881393432617188\n",
            "\n",
            "Chave: 5 | Campo da Chave: (5, 5)\n",
            "• Tempo de Execução: 0.00019073486328125\n",
            "\n"
          ]
        }
      ]
    },
    {
      "cell_type": "markdown",
      "source": [
        "<div class=\"markdown-google-sans\">\n",
        "\n",
        "## **Questão 02**\n",
        "### Avaliar o tempo de execução do código para a pesquisa binária de três chaves, levando em consideração diferentes posições\n",
        "> Mesmo em várias posições, temos uma semelhança no tempo de busca, visto que, independente do tamanho da lista, o que tem significancia é sua posição em relação ao centro da lista\n",
        "</div>\n",
        "\n"
      ],
      "metadata": {
        "id": "jZ61ik7ObRRD"
      }
    },
    {
      "cell_type": "code",
      "source": [
        "esquerda = [0, 1, 2]\n",
        "\n",
        "start = time.time()\n",
        "for i in esquerda: print(f'Chave: {i} | Campo da Chave: {binsearch(i)}')\n",
        "end = time.time()\n",
        "\n",
        "print(f'\\n• Tempo de Execução: {(end - start)*10}')"
      ],
      "metadata": {
        "colab": {
          "base_uri": "https://localhost:8080/"
        },
        "id": "7hAfOwbBcBqX",
        "outputId": "aa958f5e-46e6-4815-cc31-e7cc41b53ec1"
      },
      "execution_count": null,
      "outputs": [
        {
          "output_type": "stream",
          "name": "stdout",
          "text": [
            "Chave: 0 | Campo da Chave: (0, 0)\n",
            "Chave: 1 | Campo da Chave: (1, 1)\n",
            "Chave: 2 | Campo da Chave: (2, 2)\n",
            "\n",
            "• Tempo de Execução: 0.02481222152709961\n"
          ]
        }
      ]
    },
    {
      "cell_type": "code",
      "source": [
        "direita = [9, 8, 7]\n",
        "\n",
        "start = time.time()\n",
        "for i in direita: print(f'Chave: {i} | Campo da Chave: {binsearch(i)}')\n",
        "end = time.time()\n",
        "\n",
        "print(f'\\n• Tempo de Execução: {(end - start)*10}')"
      ],
      "metadata": {
        "colab": {
          "base_uri": "https://localhost:8080/"
        },
        "id": "3gdf3p8dMpkI",
        "outputId": "697ba5fe-4187-448a-926e-83d56d549012"
      },
      "execution_count": null,
      "outputs": [
        {
          "output_type": "stream",
          "name": "stdout",
          "text": [
            "Chave: 9 | Campo da Chave: (9, 9)\n",
            "Chave: 8 | Campo da Chave: (8, 8)\n",
            "Chave: 7 | Campo da Chave: (7, 7)\n",
            "\n",
            "• Tempo de Execução: 0.022873878479003906\n"
          ]
        }
      ]
    },
    {
      "cell_type": "markdown",
      "source": [
        "<div class=\"markdown-google-sans\">\n",
        "\n",
        "## **Questão 03**\n",
        "### Avaliar o tempo de execução do código para a pesquisa binária de seis chaves\n",
        "> Temos um tempo de execução semelhante com os anteriores, visto que só temos a metade do tempo gasto em percorrer a metade da lista ordenada. Não temos uma diferença significante\n",
        "</div>\n",
        "\n"
      ],
      "metadata": {
        "id": "Lk9lBfNJbRXX"
      }
    },
    {
      "cell_type": "code",
      "source": [
        "keys = [3, 2, 4, 0, 9, 7]\n",
        "\n",
        "start = time.time()\n",
        "for i in keys: print(f'Chave: {i} | Campo da Chave: {binsearch(i)}')\n",
        "end = time.time()\n",
        "\n",
        "print(f'\\n• Tempo de Execução: {(end - start)*10}')"
      ],
      "metadata": {
        "id": "l4DNjQKKcCAP",
        "colab": {
          "base_uri": "https://localhost:8080/"
        },
        "outputId": "d3249f90-dbc4-40f1-a6f0-b950aed114f8"
      },
      "execution_count": null,
      "outputs": [
        {
          "output_type": "stream",
          "name": "stdout",
          "text": [
            "Chave: 3 | Campo da Chave: (3, 3)\n",
            "Chave: 2 | Campo da Chave: (2, 2)\n",
            "Chave: 4 | Campo da Chave: (4, 4)\n",
            "Chave: 0 | Campo da Chave: (0, 0)\n",
            "Chave: 9 | Campo da Chave: (9, 9)\n",
            "Chave: 7 | Campo da Chave: (7, 7)\n",
            "\n",
            "• Tempo de Execução: 0.02797842025756836\n"
          ]
        }
      ]
    },
    {
      "cell_type": "markdown",
      "source": [
        "<div class=\"markdown-google-sans\">\n",
        "\n",
        "## **Referências Bibliográficas**\n",
        "> Estruturas de Dados e Seus Algoritmos\n",
        "- Jayme L. Szwarcfiter & Lilian Markenzon\n",
        "\n",
        "3ª edição – editora gen LTC – 2010 - 2020\n",
        "\n",
        "---\n",
        "\n",
        "> Matemática Avançada para Engenharia\n",
        "- Dennis G. Zill & Michael R. Cullen\n",
        "\n",
        "Álgebra Linear e Cálculo Vetorial (2) – 3ª edição, editora Bookman – 2009\n",
        "\n",
        "---\n",
        "\n",
        "> Algoritmos – Teoria e Prática\n",
        "- Thomas H. Cormen, Charles E. Leiserson, Ronald L. Rivest, Clifford Stein.\n",
        "\n",
        "3ª edição – editora Elsevier - gen LTC – 2012\n",
        "</div>\n",
        "\n"
      ],
      "metadata": {
        "id": "QpxT_-LabRdQ"
      }
    }
  ]
}
