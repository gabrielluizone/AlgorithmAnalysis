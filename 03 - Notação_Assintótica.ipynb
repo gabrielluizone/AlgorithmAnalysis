{
  "nbformat": 4,
  "nbformat_minor": 0,
  "metadata": {
    "colab": {
      "provenance": [],
      "toc_visible": true,
      "authorship_tag": "ABX9TyO3eBxvG53/ZTiZedkdqdHw"
    },
    "kernelspec": {
      "name": "python3",
      "display_name": "Python 3"
    },
    "language_info": {
      "name": "python"
    }
  },
  "cells": [
    {
      "cell_type": "markdown",
      "source": [
        "## Notação Assintótica\n",
        "**Análise de Álgoritmos: 10/03/2023**\n",
        "> Tempo de execução do algoritmo de ordenação por inserção"
      ],
      "metadata": {
        "id": "Ei6sM6yoYkQb"
      }
    },
    {
      "cell_type": "code",
      "execution_count": 90,
      "metadata": {
        "id": "G5CAkVr6MRK5"
      },
      "outputs": [],
      "source": [
        "import random\n",
        "import time\n",
        "import numpy as np\n",
        "\n",
        "tempo_medio, tempo_medio1, tempo_medio2 = [], [], []"
      ]
    },
    {
      "cell_type": "markdown",
      "source": [
        "### Sequência Crescente\n",
        "> Lista de 1 a 50"
      ],
      "metadata": {
        "id": "-pk3axuxP4wC"
      }
    },
    {
      "cell_type": "code",
      "source": [
        "A = [x for x in range(1, 51)]\n",
        "print(f'Lista Gerads\\n>> {A}\\n')\n",
        "\n",
        "tempo_inicial = time.time()\n",
        "for p in range(1):\n",
        "    for j in range(1, len(A)):\n",
        "        temp = A[j]\n",
        "        i = j - 1\n",
        "        while i >= 0 and A[i] > temp:\n",
        "            A[i + 1] = A[i]\n",
        "            i -= 1\n",
        "        A[i + 1] = temp\n",
        "tempo_final = time.time()\n",
        "\n",
        "tempo_medio.append(tempo_final - tempo_inicial)\n",
        "print(f'Lista Ordenada\\n>> {A}\\n')\n",
        "print(f'Tempo de Execução\\n>> {tempo_final - tempo_inicial}\\n')\n",
        "print(f'Tempo de Médio de Execução\\n>> {np.sum(tempo_medio) / len(tempo_medio)}\\n>> Quantidade: {len(tempo_medio)}')\n"
      ],
      "metadata": {
        "id": "DSGtuyINMZC7",
        "colab": {
          "base_uri": "https://localhost:8080/"
        },
        "outputId": "487d7d77-8622-4386-de29-19c762a85af5"
      },
      "execution_count": 100,
      "outputs": [
        {
          "output_type": "stream",
          "name": "stdout",
          "text": [
            "Lista Gerads\n",
            ">> [1, 2, 3, 4, 5, 6, 7, 8, 9, 10, 11, 12, 13, 14, 15, 16, 17, 18, 19, 20, 21, 22, 23, 24, 25, 26, 27, 28, 29, 30, 31, 32, 33, 34, 35, 36, 37, 38, 39, 40, 41, 42, 43, 44, 45, 46, 47, 48, 49, 50]\n",
            "\n",
            "Lista Ordenada\n",
            ">> [1, 2, 3, 4, 5, 6, 7, 8, 9, 10, 11, 12, 13, 14, 15, 16, 17, 18, 19, 20, 21, 22, 23, 24, 25, 26, 27, 28, 29, 30, 31, 32, 33, 34, 35, 36, 37, 38, 39, 40, 41, 42, 43, 44, 45, 46, 47, 48, 49, 50]\n",
            "\n",
            "Tempo de Execução\n",
            ">> 0.00029158592224121094\n",
            "\n",
            "Tempo de Médio de Execução\n",
            ">> 0.0002789497375488281\n",
            ">> Quantidade: 10\n"
          ]
        }
      ]
    },
    {
      "cell_type": "markdown",
      "source": [
        "### Sequência Decrescente\n",
        "> Lista de 50 a 1"
      ],
      "metadata": {
        "id": "1UKQLrI6TsrP"
      }
    },
    {
      "cell_type": "code",
      "source": [
        "B = [x for x in range(50, 0, -1)]\n",
        "print(f'Lista Geradas\\n>> {B}\\n')\n",
        "\n",
        "tempo_inicial = time.time()\n",
        "for p in range(1):\n",
        "    for j in range(1, len(B)):\n",
        "        temp = B[j]\n",
        "        i = j - 1\n",
        "        while i >= 0 and B[i] > temp:\n",
        "            B[i + 1] = B[i]\n",
        "            i -= 1\n",
        "        B[i + 1] = temp\n",
        "tempo_final = time.time()\n",
        "\n",
        "tempo_medio1.append(tempo_final - tempo_inicial)\n",
        "print(f'Lista Ordenada\\n>> {B}\\n')\n",
        "print(f'Tempo de Execução\\n>> {tempo_final - tempo_inicial}\\n')\n",
        "print(f'Tempo de Médio de Execução\\n>> {np.sum(tempo_medio1) / len(tempo_medio1)}\\n>> Quantidade: {len(tempo_medio1)}')"
      ],
      "metadata": {
        "colab": {
          "base_uri": "https://localhost:8080/"
        },
        "id": "xsCwY3h4Q0lo",
        "outputId": "32e7dcae-0b77-428d-9b75-5479acc642a6"
      },
      "execution_count": 110,
      "outputs": [
        {
          "output_type": "stream",
          "name": "stdout",
          "text": [
            "Lista Geradas\n",
            ">> [50, 49, 48, 47, 46, 45, 44, 43, 42, 41, 40, 39, 38, 37, 36, 35, 34, 33, 32, 31, 30, 29, 28, 27, 26, 25, 24, 23, 22, 21, 20, 19, 18, 17, 16, 15, 14, 13, 12, 11, 10, 9, 8, 7, 6, 5, 4, 3, 2, 1]\n",
            "\n",
            "Lista Ordenada\n",
            ">> [1, 2, 3, 4, 5, 6, 7, 8, 9, 10, 11, 12, 13, 14, 15, 16, 17, 18, 19, 20, 21, 22, 23, 24, 25, 26, 27, 28, 29, 30, 31, 32, 33, 34, 35, 36, 37, 38, 39, 40, 41, 42, 43, 44, 45, 46, 47, 48, 49, 50]\n",
            "\n",
            "Tempo de Execução\n",
            ">> 0.0008037090301513672\n",
            "\n",
            "Tempo de Médio de Execução\n",
            ">> 0.0010655641555786133\n",
            ">> Quantidade: 10\n"
          ]
        }
      ]
    },
    {
      "cell_type": "markdown",
      "source": [
        "### Sequência Aleatória\n",
        "> Elementos em Ordem Aleatória, 50 a 100"
      ],
      "metadata": {
        "id": "ZCtzNX-vTzr3"
      }
    },
    {
      "cell_type": "code",
      "source": [
        "C = [x for x in range(50, 101)]\n",
        "random.shuffle(C)\n",
        "\n",
        "print(f'Lista Desordenada\\n>> {C}\\n')\n",
        "\n",
        "tempo_inicial = time.time()\n",
        "for p in range(1):\n",
        "    for j in range(1, len(C)):\n",
        "        temp = C[j]\n",
        "        i = j - 1\n",
        "        while i >= 0 and C[i] > temp:\n",
        "            C[i + 1] = C[i]\n",
        "            i -= 1\n",
        "        C[i + 1] = temp\n",
        "tempo_final = time.time()\n",
        "\n",
        "tempo_medio2.append(tempo_final - tempo_inicial)\n",
        "print(f'Lista Ordenada\\n>> {C}\\n')\n",
        "print(f'Tempo de Execução\\n>> {tempo_final - tempo_inicial}\\n')\n",
        "print(f'Tempo de Médio de Execução\\n>> {np.sum(tempo_medio2) / len(tempo_medio2)}\\n>> Quantidade: {len(tempo_medio2)}')"
      ],
      "metadata": {
        "colab": {
          "base_uri": "https://localhost:8080/"
        },
        "id": "3VkzBhwST2Po",
        "outputId": "f051edf8-23d4-4bae-a912-4568e3bab3ed"
      },
      "execution_count": 120,
      "outputs": [
        {
          "output_type": "stream",
          "name": "stdout",
          "text": [
            "Lista Desordenada\n",
            ">> [96, 72, 71, 79, 57, 55, 53, 73, 68, 65, 100, 86, 89, 85, 80, 52, 59, 67, 77, 97, 90, 60, 62, 63, 84, 99, 51, 93, 81, 82, 58, 75, 76, 78, 50, 61, 95, 98, 66, 54, 83, 74, 92, 64, 87, 69, 94, 70, 91, 88, 56]\n",
            "\n",
            "Lista Ordenada\n",
            ">> [50, 51, 52, 53, 54, 55, 56, 57, 58, 59, 60, 61, 62, 63, 64, 65, 66, 67, 68, 69, 70, 71, 72, 73, 74, 75, 76, 77, 78, 79, 80, 81, 82, 83, 84, 85, 86, 87, 88, 89, 90, 91, 92, 93, 94, 95, 96, 97, 98, 99, 100]\n",
            "\n",
            "Tempo de Execução\n",
            ">> 0.0003218650817871094\n",
            "\n",
            "Tempo de Médio de Execução\n",
            ">> 0.000556182861328125\n",
            ">> Quantidade: 10\n"
          ]
        }
      ]
    },
    {
      "cell_type": "markdown",
      "source": [
        "## Tempo Médio de Execução\n",
        "\n",
        "A lista decrescente foi o teve o maior tempo de execução pela maior necessidade de ordenação na sua posição inversa da lsita. Com uma lista de ordem aleatória tem um esforço menor em comparaçãoa lista decrescente. A lista crescente não teve esforços em trocar seus itens.\n",
        "\n",
        "**Crescente: 1 - 50**\n",
        "> 0.0002789497375488281\n",
        "---\n",
        "**Decrescente: 50 - 1**\n",
        "> 0.0010655641555786133\n",
        "---\n",
        "**Crescente: 1 - 50**\n",
        "> 0.000556182861328125\n",
        "---"
      ],
      "metadata": {
        "id": "um2yJsUEWMaf"
      }
    },
    {
      "cell_type": "markdown",
      "source": [
        "## Referências Bibliográficas\n",
        "\n",
        "> **Estruturas de Dados e Seus Algoritmos**\\\n",
        "*Jayme L. Szwarcfiter & Lilian Markenzon*\\\n",
        "*italicized text*3ª edição – editora gen LTC – 2010 - 2020\\\n",
        "\n",
        "> **Matemática Avançada para Engenharia**\\\n",
        "*Dennis G. Zill & Michael R. Cullen*\\\n",
        "Álgebra Linear e Cálculo Vetorial (2) – 3ª edição, editora Bookman – 2009\\\n",
        "\n",
        "> **Algoritmos – Teoria e Prática**\\\n",
        "*Thomas H. Cormen, Charles E. Leiserson, Ronald L. Rivest, Clifford Stein.*\\\n",
        "3ª edição – editora Elsevier - gen LTC – 201"
      ],
      "metadata": {
        "id": "1EtFl3LGbBDF"
      }
    },
    {
      "cell_type": "code",
      "source": [],
      "metadata": {
        "id": "Vb7K_4VxeJVR"
      },
      "execution_count": null,
      "outputs": []
    }
  ]
}