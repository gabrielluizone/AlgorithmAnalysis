{
  "nbformat": 4,
  "nbformat_minor": 0,
  "metadata": {
    "colab": {
      "provenance": [],
      "toc_visible": true,
      "authorship_tag": "ABX9TyMLN5Trsf7IelLNjqcGfILJ"
    },
    "kernelspec": {
      "name": "python3",
      "display_name": "Python 3"
    },
    "language_info": {
      "name": "python"
    }
  },
  "cells": [
    {
      "cell_type": "markdown",
      "source": [
        "## Notação Assintótica\n",
        "**Análise de Álgoritmos: 10/03/2023**\n",
        "> Tempo de execução do algoritmo de ordenação por inserção"
      ],
      "metadata": {
        "id": "Ei6sM6yoYkQb"
      }
    },
    {
      "cell_type": "code",
      "execution_count": null,
      "metadata": {
        "id": "G5CAkVr6MRK5"
      },
      "outputs": [],
      "source": [
        "import random\n",
        "import time\n",
        "import numpy as np\n",
        "\n",
        "tempo_medio, tempo_medio1, tempo_medio2 = [], [], []"
      ]
    },
    {
      "cell_type": "markdown",
      "source": [
        "### Sequência Crescente 50\n",
        "> Aplicar o algoritmo de ordenação por inserção em uma lista de 50 elementos\n",
        "ordenados em sequência crescente"
      ],
      "metadata": {
        "id": "-pk3axuxP4wC"
      }
    },
    {
      "cell_type": "code",
      "source": [
        "A = [x for x in range(1, 51)]\n",
        "print(f'Lista Gerads\\n>> {A}\\n')\n",
        "\n",
        "tempo_inicial = time.time()\n",
        "for p in range(1):\n",
        "    for j in range(1, len(A)):\n",
        "        temp = A[j]\n",
        "        i = j - 1\n",
        "        while i >= 0 and A[i] > temp:\n",
        "            A[i + 1] = A[i]\n",
        "            i -= 1\n",
        "        A[i + 1] = temp\n",
        "tempo_final = time.time()\n",
        "\n",
        "tempo_medio.append(tempo_final - tempo_inicial)\n",
        "print(f'Lista Ordenada\\n>> {A}\\n')\n",
        "print(f'Tempo de Execução\\n>> {tempo_final - tempo_inicial}\\n')\n",
        "print(f'Tempo de Médio de Execução\\n>> {np.sum(tempo_medio) / len(tempo_medio)}\\n>> Quantidade: {len(tempo_medio)}')\n"
      ],
      "metadata": {
        "id": "DSGtuyINMZC7",
        "colab": {
          "base_uri": "https://localhost:8080/"
        },
        "outputId": "487d7d77-8622-4386-de29-19c762a85af5"
      },
      "execution_count": null,
      "outputs": [
        {
          "output_type": "stream",
          "name": "stdout",
          "text": [
            "Lista Gerads\n",
            ">> [1, 2, 3, 4, 5, 6, 7, 8, 9, 10, 11, 12, 13, 14, 15, 16, 17, 18, 19, 20, 21, 22, 23, 24, 25, 26, 27, 28, 29, 30, 31, 32, 33, 34, 35, 36, 37, 38, 39, 40, 41, 42, 43, 44, 45, 46, 47, 48, 49, 50]\n",
            "\n",
            "Lista Ordenada\n",
            ">> [1, 2, 3, 4, 5, 6, 7, 8, 9, 10, 11, 12, 13, 14, 15, 16, 17, 18, 19, 20, 21, 22, 23, 24, 25, 26, 27, 28, 29, 30, 31, 32, 33, 34, 35, 36, 37, 38, 39, 40, 41, 42, 43, 44, 45, 46, 47, 48, 49, 50]\n",
            "\n",
            "Tempo de Execução\n",
            ">> 0.00029158592224121094\n",
            "\n",
            "Tempo de Médio de Execução\n",
            ">> 0.0002789497375488281\n",
            ">> Quantidade: 10\n"
          ]
        }
      ]
    },
    {
      "cell_type": "markdown",
      "source": [
        "### Sequência Decrescente 50\n",
        "> Aplicar o algoritmo de ordenação por inserção em uma lista de 50 elementos\n",
        "ordenados em sequência decrescente; comparar os tempos de execução com o\n",
        "exemplo do exercício 1. Concluir"
      ],
      "metadata": {
        "id": "1UKQLrI6TsrP"
      }
    },
    {
      "cell_type": "code",
      "source": [
        "B = [x for x in range(50, 0, -1)]\n",
        "print(f'Lista Geradas\\n>> {B}\\n')\n",
        "\n",
        "tempo_inicial = time.time()\n",
        "for p in range(1):\n",
        "    for j in range(1, len(B)):\n",
        "        temp = B[j]\n",
        "        i = j - 1\n",
        "        while i >= 0 and B[i] > temp:\n",
        "            B[i + 1] = B[i]\n",
        "            i -= 1\n",
        "        B[i + 1] = temp\n",
        "tempo_final = time.time()\n",
        "\n",
        "tempo_medio1.append(tempo_final - tempo_inicial)\n",
        "print(f'Lista Ordenada\\n>> {B}\\n')\n",
        "print(f'Tempo de Execução\\n>> {tempo_final - tempo_inicial}\\n')\n",
        "print(f'Tempo de Médio de Execução\\n>> {np.sum(tempo_medio1) / len(tempo_medio1)}\\n>> Quantidade: {len(tempo_medio1)}')"
      ],
      "metadata": {
        "colab": {
          "base_uri": "https://localhost:8080/"
        },
        "id": "xsCwY3h4Q0lo",
        "outputId": "32e7dcae-0b77-428d-9b75-5479acc642a6"
      },
      "execution_count": null,
      "outputs": [
        {
          "output_type": "stream",
          "name": "stdout",
          "text": [
            "Lista Geradas\n",
            ">> [50, 49, 48, 47, 46, 45, 44, 43, 42, 41, 40, 39, 38, 37, 36, 35, 34, 33, 32, 31, 30, 29, 28, 27, 26, 25, 24, 23, 22, 21, 20, 19, 18, 17, 16, 15, 14, 13, 12, 11, 10, 9, 8, 7, 6, 5, 4, 3, 2, 1]\n",
            "\n",
            "Lista Ordenada\n",
            ">> [1, 2, 3, 4, 5, 6, 7, 8, 9, 10, 11, 12, 13, 14, 15, 16, 17, 18, 19, 20, 21, 22, 23, 24, 25, 26, 27, 28, 29, 30, 31, 32, 33, 34, 35, 36, 37, 38, 39, 40, 41, 42, 43, 44, 45, 46, 47, 48, 49, 50]\n",
            "\n",
            "Tempo de Execução\n",
            ">> 0.0008037090301513672\n",
            "\n",
            "Tempo de Médio de Execução\n",
            ">> 0.0010655641555786133\n",
            ">> Quantidade: 10\n"
          ]
        }
      ]
    },
    {
      "cell_type": "markdown",
      "source": [
        "### Sequência Aleatória 50\n",
        "> Aplicar o algoritmo de ordenação por inserção em uma lista de 50 elementos em\n",
        "sequência aleatória; comparar os tempos de execução com os exemplos dos\n",
        "exercícios 1 e 2. Concluir"
      ],
      "metadata": {
        "id": "ZCtzNX-vTzr3"
      }
    },
    {
      "cell_type": "code",
      "source": [
        "C = [x for x in range(50, 101)]\n",
        "random.shuffle(C)\n",
        "\n",
        "print(f'Lista Desordenada\\n>> {C}\\n')\n",
        "\n",
        "tempo_inicial = time.time()\n",
        "for p in range(1):\n",
        "    for j in range(1, len(C)):\n",
        "        temp = C[j]\n",
        "        i = j - 1\n",
        "        while i >= 0 and C[i] > temp:\n",
        "            C[i + 1] = C[i]\n",
        "            i -= 1\n",
        "        C[i + 1] = temp\n",
        "tempo_final = time.time()\n",
        "\n",
        "tempo_medio2.append(tempo_final - tempo_inicial)\n",
        "print(f'Lista Ordenada\\n>> {C}\\n')\n",
        "print(f'Tempo de Execução\\n>> {tempo_final - tempo_inicial}\\n')\n",
        "print(f'Tempo de Médio de Execução\\n>> {np.sum(tempo_medio2) / len(tempo_medio2)}\\n>> Quantidade: {len(tempo_medio2)}')"
      ],
      "metadata": {
        "colab": {
          "base_uri": "https://localhost:8080/"
        },
        "id": "3VkzBhwST2Po",
        "outputId": "f051edf8-23d4-4bae-a912-4568e3bab3ed"
      },
      "execution_count": null,
      "outputs": [
        {
          "output_type": "stream",
          "name": "stdout",
          "text": [
            "Lista Desordenada\n",
            ">> [96, 72, 71, 79, 57, 55, 53, 73, 68, 65, 100, 86, 89, 85, 80, 52, 59, 67, 77, 97, 90, 60, 62, 63, 84, 99, 51, 93, 81, 82, 58, 75, 76, 78, 50, 61, 95, 98, 66, 54, 83, 74, 92, 64, 87, 69, 94, 70, 91, 88, 56]\n",
            "\n",
            "Lista Ordenada\n",
            ">> [50, 51, 52, 53, 54, 55, 56, 57, 58, 59, 60, 61, 62, 63, 64, 65, 66, 67, 68, 69, 70, 71, 72, 73, 74, 75, 76, 77, 78, 79, 80, 81, 82, 83, 84, 85, 86, 87, 88, 89, 90, 91, 92, 93, 94, 95, 96, 97, 98, 99, 100]\n",
            "\n",
            "Tempo de Execução\n",
            ">> 0.0003218650817871094\n",
            "\n",
            "Tempo de Médio de Execução\n",
            ">> 0.000556182861328125\n",
            ">> Quantidade: 10\n"
          ]
        }
      ]
    },
    {
      "cell_type": "markdown",
      "source": [
        "## Conclusão\n",
        "\n",
        "A lista decrescente foi o teve o maior tempo de execução pela maior necessidade de ordenação na sua posição inversa da lsita. Com uma lista de ordem aleatória tem um esforço menor em comparaçãoa lista decrescente. A lista crescente não teve esforços em trocar seus itens.\n",
        "\n",
        "**Crescente: 1 - 50**\n",
        "> 0.0002789497375488281\n",
        "---\n",
        "**Decrescente: 50 - 1**\n",
        "> 0.0010655641555786133\n",
        "---\n",
        "**Aleatória: 1 - 50**\n",
        "> 0.000556182861328125\n",
        "---"
      ],
      "metadata": {
        "id": "um2yJsUEWMaf"
      }
    },
    {
      "cell_type": "markdown",
      "source": [
        "## Referências Bibliográficas\n",
        "\n",
        "> **Estruturas de Dados e Seus Algoritmos**\\\n",
        "*Jayme L. Szwarcfiter & Lilian Markenzon*\\\n",
        "*italicized text*3ª edição – editora gen LTC – 2010 - 2020\\\n",
        "\n",
        "> **Matemática Avançada para Engenharia**\\\n",
        "*Dennis G. Zill & Michael R. Cullen*\\\n",
        "Álgebra Linear e Cálculo Vetorial (2) – 3ª edição, editora Bookman – 2009\\\n",
        "\n",
        "> **Algoritmos – Teoria e Prática**\\\n",
        "*Thomas H. Cormen, Charles E. Leiserson, Ronald L. Rivest, Clifford Stein.*\\\n",
        "3ª edição – editora Elsevier - gen LTC – 201"
      ],
      "metadata": {
        "id": "1EtFl3LGbBDF"
      }
    },
    {
      "cell_type": "markdown",
      "source": [
        "---"
      ],
      "metadata": {
        "id": "pWQhErn_gJBz"
      }
    },
    {
      "cell_type": "markdown",
      "source": [
        "### Crescente com 100\n",
        "> Aplicar o algoritmo de ordenação por inserção em uma lista de 100 elementos\n",
        "ordenados em sequência crescente; comparar os tempos de execução com os\n",
        "exemplos dos exercícios 1 e 2. Concluir.\n",
        "\n",
        "**Temos o mesmo tempo de execução para a lista, mesmo que sejam de diferentes tamanho, o algoritmo somente ira percorrer elas sem alteração. Como a lista possue o dubro de tamanho, o tempo parta percorrer terá variação**\n",
        "\n",
        "**Cres. 50:** 0.00027\\\n",
        "**Cres. 100:** 0.00030"
      ],
      "metadata": {
        "id": "l-Pm7XKpf3nh"
      }
    },
    {
      "cell_type": "code",
      "source": [
        "tempo_medio, tempo_medio1, tempo_medio2 = [], [], []"
      ],
      "metadata": {
        "id": "L8rG4L7ygSpD"
      },
      "execution_count": 136,
      "outputs": []
    },
    {
      "cell_type": "code",
      "source": [
        "A = [x for x in range(1, 101)]\n",
        "print(f'Lista Gerads\\n>> {A}\\n')\n",
        "\n",
        "tempo_inicial = time.time()\n",
        "for p in range(1):\n",
        "    for j in range(1, len(A)):\n",
        "        temp = A[j]\n",
        "        i = j - 1\n",
        "        while i >= 0 and A[i] > temp:\n",
        "            A[i + 1] = A[i]\n",
        "            i -= 1\n",
        "        A[i + 1] = temp\n",
        "tempo_final = time.time()\n",
        "\n",
        "tempo_medio.append(tempo_final - tempo_inicial)\n",
        "print(f'Lista Ordenada\\n>> {A}\\n')\n",
        "print(f'Tempo de Execução\\n>> {tempo_final - tempo_inicial}\\n')\n",
        "print(f'Tempo de Médio de Execução\\n>> {np.sum(tempo_medio) / len(tempo_medio)}\\n>> Quantidade: {len(tempo_medio)}')\n"
      ],
      "metadata": {
        "id": "Vb7K_4VxeJVR",
        "colab": {
          "base_uri": "https://localhost:8080/"
        },
        "outputId": "d5ab7e9f-4c49-4974-d67e-6b0013951c90"
      },
      "execution_count": 146,
      "outputs": [
        {
          "output_type": "stream",
          "name": "stdout",
          "text": [
            "Lista Gerads\n",
            ">> [1, 2, 3, 4, 5, 6, 7, 8, 9, 10, 11, 12, 13, 14, 15, 16, 17, 18, 19, 20, 21, 22, 23, 24, 25, 26, 27, 28, 29, 30, 31, 32, 33, 34, 35, 36, 37, 38, 39, 40, 41, 42, 43, 44, 45, 46, 47, 48, 49, 50, 51, 52, 53, 54, 55, 56, 57, 58, 59, 60, 61, 62, 63, 64, 65, 66, 67, 68, 69, 70, 71, 72, 73, 74, 75, 76, 77, 78, 79, 80, 81, 82, 83, 84, 85, 86, 87, 88, 89, 90, 91, 92, 93, 94, 95, 96, 97, 98, 99, 100]\n",
            "\n",
            "Lista Ordenada\n",
            ">> [1, 2, 3, 4, 5, 6, 7, 8, 9, 10, 11, 12, 13, 14, 15, 16, 17, 18, 19, 20, 21, 22, 23, 24, 25, 26, 27, 28, 29, 30, 31, 32, 33, 34, 35, 36, 37, 38, 39, 40, 41, 42, 43, 44, 45, 46, 47, 48, 49, 50, 51, 52, 53, 54, 55, 56, 57, 58, 59, 60, 61, 62, 63, 64, 65, 66, 67, 68, 69, 70, 71, 72, 73, 74, 75, 76, 77, 78, 79, 80, 81, 82, 83, 84, 85, 86, 87, 88, 89, 90, 91, 92, 93, 94, 95, 96, 97, 98, 99, 100]\n",
            "\n",
            "Tempo de Execução\n",
            ">> 0.00029969215393066406\n",
            "\n",
            "Tempo de Médio de Execução\n",
            ">> 0.00030686855316162107\n",
            ">> Quantidade: 10\n"
          ]
        }
      ]
    },
    {
      "cell_type": "markdown",
      "source": [
        "### Decrescente com 100\n",
        "> Aplicar o algoritmo de ordenação por inserção em uma lista de 100 elementos\n",
        "ordenados em sequência decrescente; comparar os tempos de execução com os\n",
        "exemplos dos exercícios 1, 2, 3 e 4. Concluir\n",
        "\n",
        "**Temos que em uma lista aleatória com 100 itens, o tempo de execução, como o esperado, seja o dobro da execução do algoritmo da lista de 50 itens, e isso ocorreu, pois o algoritmo demora duas vezes mais para percorrer e alterar as posições de cada elemento na sua posição oposta. As outras listas não tiveram uma complexibilidade maior quanto essa execução**\n",
        "\n",
        "**Cres. 50:** 0.00027\\\n",
        "**Decr. 50:** 0.00106\\\n",
        "**Aleat. 50:** 0.00055\\\n",
        "**Cres. 100:** 0.00030\n",
        "\n",
        "> **Decrescente 100:** $0.00270$"
      ],
      "metadata": {
        "id": "DLaqRk6-iUyM"
      }
    },
    {
      "cell_type": "code",
      "source": [
        "B = [x for x in range(101, 0, -1)]\n",
        "print(f'Lista Geradas\\n>> {B}\\n')\n",
        "\n",
        "tempo_inicial = time.time()\n",
        "for p in range(1):\n",
        "    for j in range(1, len(B)):\n",
        "        temp = B[j]\n",
        "        i = j - 1\n",
        "        while i >= 0 and B[i] > temp:\n",
        "            B[i + 1] = B[i]\n",
        "            i -= 1\n",
        "        B[i + 1] = temp\n",
        "tempo_final = time.time()\n",
        "\n",
        "tempo_medio1.append(tempo_final - tempo_inicial)\n",
        "print(f'Lista Ordenada\\n>> {B}\\n')\n",
        "print(f'Tempo de Execução\\n>> {tempo_final - tempo_inicial}\\n')\n",
        "print(f'Tempo de Médio de Execução\\n>> {np.sum(tempo_medio1) / len(tempo_medio1)}\\n>> Quantidade: {len(tempo_medio1)}')"
      ],
      "metadata": {
        "colab": {
          "base_uri": "https://localhost:8080/"
        },
        "id": "FiO9HKkxiUcc",
        "outputId": "12357d29-1d20-4ac6-a051-9e76b93d10ba"
      },
      "execution_count": 158,
      "outputs": [
        {
          "output_type": "stream",
          "name": "stdout",
          "text": [
            "Lista Geradas\n",
            ">> [101, 100, 99, 98, 97, 96, 95, 94, 93, 92, 91, 90, 89, 88, 87, 86, 85, 84, 83, 82, 81, 80, 79, 78, 77, 76, 75, 74, 73, 72, 71, 70, 69, 68, 67, 66, 65, 64, 63, 62, 61, 60, 59, 58, 57, 56, 55, 54, 53, 52, 51, 50, 49, 48, 47, 46, 45, 44, 43, 42, 41, 40, 39, 38, 37, 36, 35, 34, 33, 32, 31, 30, 29, 28, 27, 26, 25, 24, 23, 22, 21, 20, 19, 18, 17, 16, 15, 14, 13, 12, 11, 10, 9, 8, 7, 6, 5, 4, 3, 2, 1]\n",
            "\n",
            "Lista Ordenada\n",
            ">> [1, 2, 3, 4, 5, 6, 7, 8, 9, 10, 11, 12, 13, 14, 15, 16, 17, 18, 19, 20, 21, 22, 23, 24, 25, 26, 27, 28, 29, 30, 31, 32, 33, 34, 35, 36, 37, 38, 39, 40, 41, 42, 43, 44, 45, 46, 47, 48, 49, 50, 51, 52, 53, 54, 55, 56, 57, 58, 59, 60, 61, 62, 63, 64, 65, 66, 67, 68, 69, 70, 71, 72, 73, 74, 75, 76, 77, 78, 79, 80, 81, 82, 83, 84, 85, 86, 87, 88, 89, 90, 91, 92, 93, 94, 95, 96, 97, 98, 99, 100, 101]\n",
            "\n",
            "Tempo de Execução\n",
            ">> 0.0027146339416503906\n",
            "\n",
            "Tempo de Médio de Execução\n",
            ">> 0.0027040481567382813\n",
            ">> Quantidade: 10\n"
          ]
        }
      ]
    },
    {
      "cell_type": "markdown",
      "source": [
        "### DecrescAleatório com 100\n",
        "> Aplicar o algoritmo de ordenação por inserção em uma lista de 100 elementos\n",
        "em sequência aleatória; comparar os tempos de execução com os exemplos dos\n",
        "exercícios 1, 2, 3, 4 e 5. Concluir\n",
        "\n",
        "**Cres. 50:** 0.00027\\\n",
        "**Decr. 50:** 0.00106\\\n",
        "**Aleat. 50:** 0.00055\\\n",
        "**Cres. 100:** 0.00030\\\n",
        "**Decr. 100:** 0.00270\n",
        "\n",
        "> **Aleatório:** 0.00214"
      ],
      "metadata": {
        "id": "tHVU33ezkS0l"
      }
    },
    {
      "cell_type": "code",
      "source": [
        "C = [x for x in range(100, 201)]\n",
        "random.shuffle(C)\n",
        "\n",
        "print(f'Lista Desordenada\\n>> {C}\\n')\n",
        "\n",
        "tempo_inicial = time.time()\n",
        "for p in range(1):\n",
        "    for j in range(1, len(C)):\n",
        "        temp = C[j]\n",
        "        i = j - 1\n",
        "        while i >= 0 and C[i] > temp:\n",
        "            C[i + 1] = C[i]\n",
        "            i -= 1\n",
        "        C[i + 1] = temp\n",
        "tempo_final = time.time()\n",
        "\n",
        "tempo_medio2.append(tempo_final - tempo_inicial)\n",
        "print(f'Lista Ordenada\\n>> {C}\\n')\n",
        "print(f'Tempo de Execução\\n>> {tempo_final - tempo_inicial}\\n')\n",
        "print(f'Tempo de Médio de Execução\\n>> {np.sum(tempo_medio2) / len(tempo_medio2)}\\n>> Quantidade: {len(tempo_medio2)}')"
      ],
      "metadata": {
        "colab": {
          "base_uri": "https://localhost:8080/"
        },
        "id": "yntrlcUNkSec",
        "outputId": "232e0d8e-1dc5-41df-8fb4-e00bcc306c84"
      },
      "execution_count": 168,
      "outputs": [
        {
          "output_type": "stream",
          "name": "stdout",
          "text": [
            "Lista Desordenada\n",
            ">> [184, 161, 174, 182, 117, 175, 178, 155, 144, 135, 138, 195, 171, 162, 167, 192, 122, 127, 176, 183, 154, 111, 156, 141, 191, 128, 146, 179, 139, 153, 132, 130, 193, 190, 137, 187, 106, 129, 170, 199, 119, 180, 177, 150, 136, 157, 105, 188, 107, 168, 101, 103, 163, 152, 113, 131, 172, 110, 165, 145, 189, 164, 109, 147, 194, 125, 115, 126, 133, 112, 123, 140, 100, 181, 196, 116, 114, 142, 151, 200, 169, 149, 173, 102, 124, 160, 185, 118, 186, 108, 134, 197, 166, 148, 143, 120, 159, 198, 121, 158, 104]\n",
            "\n",
            "Lista Ordenada\n",
            ">> [100, 101, 102, 103, 104, 105, 106, 107, 108, 109, 110, 111, 112, 113, 114, 115, 116, 117, 118, 119, 120, 121, 122, 123, 124, 125, 126, 127, 128, 129, 130, 131, 132, 133, 134, 135, 136, 137, 138, 139, 140, 141, 142, 143, 144, 145, 146, 147, 148, 149, 150, 151, 152, 153, 154, 155, 156, 157, 158, 159, 160, 161, 162, 163, 164, 165, 166, 167, 168, 169, 170, 171, 172, 173, 174, 175, 176, 177, 178, 179, 180, 181, 182, 183, 184, 185, 186, 187, 188, 189, 190, 191, 192, 193, 194, 195, 196, 197, 198, 199, 200]\n",
            "\n",
            "Tempo de Execução\n",
            ">> 0.0017044544219970703\n",
            "\n",
            "Tempo de Médio de Execução\n",
            ">> 0.002142500877380371\n",
            ">> Quantidade: 10\n"
          ]
        }
      ]
    }
  ]
}